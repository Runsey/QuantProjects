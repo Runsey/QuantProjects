{
 "cells": [
  {
   "cell_type": "code",
   "execution_count": null,
   "id": "7d1d9ddd-7a45-43b0-ad10-441076ac2228",
   "metadata": {},
   "outputs": [],
   "source": [
    "import yfiancne as yf\n",
    "import matplotlib as plt\n"
   ]
  },
  {
   "cell_type": "code",
   "execution_count": null,
   "id": "59edb5ad-f2b5-4f43-9e2c-09a5a357cdf5",
   "metadata": {},
   "outputs": [],
   "source": [
    "data=yf.download(\"APPL\", start=\"2015-01-01\", end=\"2025-07-28\")"
   ]
  },
  {
   "cell_type": "code",
   "execution_count": null,
   "id": "71209666-fba4-4de9-8d0f-355c903a0d34",
   "metadata": {},
   "outputs": [],
   "source": []
  }
 ],
 "metadata": {
  "kernelspec": {
   "display_name": "Python 3 (ipykernel)",
   "language": "python",
   "name": "python3"
  },
  "language_info": {
   "codemirror_mode": {
    "name": "ipython",
    "version": 3
   },
   "file_extension": ".py",
   "mimetype": "text/x-python",
   "name": "python",
   "nbconvert_exporter": "python",
   "pygments_lexer": "ipython3",
   "version": "3.13.4"
  }
 },
 "nbformat": 4,
 "nbformat_minor": 5
}
